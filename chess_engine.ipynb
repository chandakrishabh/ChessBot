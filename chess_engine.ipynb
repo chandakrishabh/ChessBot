{
 "cells": [
  {
   "cell_type": "code",
   "execution_count": 61,
   "metadata": {},
   "outputs": [],
   "source": [
    "def getEval():\n",
    "    import lichess\n",
    "    import lichess.api\n",
    "    from lichess.format import PGN\n",
    "    from lichess.format import PYCHESS\n",
    "    from stockfish import Stockfish\n",
    "    import pgnToFen \n",
    "    import os\n",
    "    from IPython.display import clear_output\n",
    "\n",
    "    stockfish = Stockfish(\"/Users/chandak_rishabh/Downloads/stockfish-11-mac/Mac/stockfish-11-64\")\n",
    "\n",
    "    #Get the game\n",
    "    url = 'https://lichess.org/q3d0Mh1woEOg'\n",
    "    game_id = url[-12:-4]\n",
    "    game = lichess.api.game(game_id)\n",
    "    moves = game['moves']\n",
    "\n",
    "    #Convert moves to FEN format\n",
    "    pgnConverter = pgnToFen.PgnToFen()\n",
    "    pgnConverter.resetBoard()\n",
    "    pgnConverter.pgnToFen(moves.split())\n",
    "    fen = pgnConverter.getFullFen()\n",
    "    #Load position into stockfish and get eval, next move, board visual\n",
    "    stockfish.set_fen_position(fen)\n",
    "#     print(fen)\n",
    "    evaluation = stockfish.get_evaluation()\n",
    "    clear_output(wait=True)\n",
    "    if evaluation[\"type\"] == \"cp\":\n",
    "        v = evaluation[\"value\"]/100.0\n",
    "        print(f'Evaluation is cp {v}')\n",
    "    else:\n",
    "        print(f'Evaluation is mate in {evaluation[\"value\"]}')\n",
    "\n",
    "    print(f'Best move is {stockfish.get_best_move()}')\n"
   ]
  },
  {
   "cell_type": "code",
   "execution_count": 62,
   "metadata": {},
   "outputs": [
    {
     "name": "stdout",
     "output_type": "stream",
     "text": [
      "e4 g6 d4 Bg7 Nf3 c6 e5 d6 exd6 exd6 Bc4 Nf6 O-O O-O Be3 Bg4 Nbd2 d5 Be2 Qd7 Ne5 Bxe2 Qxe2 Qf5 Ndf3 Nfd7 c3 Re8 Qd2 Nxe5 dxe5 Bxe5 Nxe5 Rxe5 Bd4 Re7 Qh6 f6 h3 Nd7 g4 Qf3\n",
      "Evaluation is cp -2.07\n",
      "Best move is a1e1\n"
     ]
    }
   ],
   "source": [
    "getEval()\n"
   ]
  },
  {
   "cell_type": "code",
   "execution_count": null,
   "metadata": {},
   "outputs": [],
   "source": [
    "from apscheduler.schedulers.blocking import BlockingScheduler\n",
    "scheduler = BlockingScheduler()\n",
    "scheduler.add_job(getEval, 'interval', seconds=1)\n",
    "scheduler.start()"
   ]
  }
 ],
 "metadata": {
  "kernelspec": {
   "display_name": "Python 3",
   "language": "python",
   "name": "python3"
  },
  "language_info": {
   "codemirror_mode": {
    "name": "ipython",
    "version": 3
   },
   "file_extension": ".py",
   "mimetype": "text/x-python",
   "name": "python",
   "nbconvert_exporter": "python",
   "pygments_lexer": "ipython3",
   "version": "3.7.3"
  }
 },
 "nbformat": 4,
 "nbformat_minor": 2
}
